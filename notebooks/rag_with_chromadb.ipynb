{
 "cells": [
  {
   "cell_type": "markdown",
   "metadata": {},
   "source": [
    "---\n",
    "**llama-index with chroma-db** \n",
    "\n",
    "---"
   ]
  },
  {
   "cell_type": "markdown",
   "metadata": {},
   "source": [
    "### import dependencies and env variables"
   ]
  },
  {
   "cell_type": "code",
   "execution_count": 9,
   "metadata": {},
   "outputs": [],
   "source": [
    "from llama_index.core import VectorStoreIndex, SimpleDirectoryReader, StorageContext\n",
    "from llama_index.vector_stores.chroma import ChromaVectorStore\n",
    "import chromadb\n",
    "\n",
    "# to load open ai key\n",
    "from dotenv import load_dotenv\n",
    "import os"
   ]
  },
  {
   "cell_type": "code",
   "execution_count": 10,
   "metadata": {},
   "outputs": [
    {
     "data": {
      "text/plain": [
       "True"
      ]
     },
     "execution_count": 10,
     "metadata": {},
     "output_type": "execute_result"
    }
   ],
   "source": [
    "load_dotenv()\n",
    "os.environ['OPENAI_API_KEY']=os.getenv(\"OPENAI_API_KEY\")"
   ]
  },
  {
   "cell_type": "markdown",
   "metadata": {},
   "source": [
    "### Logging"
   ]
  },
  {
   "cell_type": "code",
   "execution_count": 3,
   "metadata": {},
   "outputs": [],
   "source": [
    "import logging\n",
    "import sys\n",
    "logging.basicConfig(stream=sys.stdout, level=logging.DEBUG)\n",
    "logging.getLogger().addHandler(logging.StreamHandler(stream=sys.stdout))"
   ]
  },
  {
   "cell_type": "markdown",
   "metadata": {},
   "source": [
    "### indexing and storing in chroma db"
   ]
  },
  {
   "cell_type": "markdown",
   "metadata": {},
   "source": [
    "#### read documents"
   ]
  },
  {
   "cell_type": "code",
   "execution_count": 4,
   "metadata": {},
   "outputs": [],
   "source": [
    "documents = SimpleDirectoryReader(\"data\").load_data()"
   ]
  },
  {
   "cell_type": "markdown",
   "metadata": {},
   "source": [
    "##### create client and a new collection"
   ]
  },
  {
   "cell_type": "code",
   "execution_count": 5,
   "metadata": {},
   "outputs": [],
   "source": [
    "chroma_client = chromadb.EphemeralClient()\n",
    "chroma_collection = chroma_client.create_collection(\"quickstart\")"
   ]
  },
  {
   "cell_type": "markdown",
   "metadata": {},
   "source": [
    "#### set up ChromaVectorStore"
   ]
  },
  {
   "cell_type": "code",
   "execution_count": null,
   "metadata": {},
   "outputs": [],
   "source": [
    "vector_store = ChromaVectorStore(chroma_collection=chroma_collection)\n",
    "storage_context = StorageContext.from_defaults(vector_store=vector_store)"
   ]
  },
  {
   "cell_type": "markdown",
   "metadata": {},
   "source": [
    "#### indexing"
   ]
  },
  {
   "cell_type": "code",
   "execution_count": null,
   "metadata": {},
   "outputs": [],
   "source": [
    "index = VectorStoreIndex.from_documents(\n",
    "    documents, storage_context=storage_context\n",
    ")\n",
    "\n",
    "index = VectorStoreIndex.from_documents(documents)"
   ]
  },
  {
   "cell_type": "markdown",
   "metadata": {
    "tags": [
     "parameters"
    ]
   },
   "source": [
    "#### save to disk"
   ]
  },
  {
   "cell_type": "code",
   "execution_count": 6,
   "metadata": {},
   "outputs": [],
   "source": [
    "db = chromadb.PersistentClient(path=\"./chroma_db\")\n",
    "chroma_collection = db.get_or_create_collection(\"quickstart\")\n",
    "vector_store = ChromaVectorStore(chroma_collection=chroma_collection)\n",
    "storage_context = StorageContext.from_defaults(vector_store=vector_store)\n",
    "\n",
    "index = VectorStoreIndex.from_documents(\n",
    "    documents, storage_context=storage_context\n",
    ")"
   ]
  },
  {
   "cell_type": "markdown",
   "metadata": {},
   "source": [
    "#### load from disk"
   ]
  },
  {
   "cell_type": "code",
   "execution_count": 4,
   "metadata": {},
   "outputs": [],
   "source": [
    "db2 = chromadb.PersistentClient(path=\"./chroma_db\")\n",
    "chroma_collection = db2.get_or_create_collection(\"quickstart\")\n",
    "vector_store = ChromaVectorStore(chroma_collection=chroma_collection)\n",
    "index = VectorStoreIndex.from_vector_store(\n",
    "    vector_store,\n",
    ")"
   ]
  },
  {
   "cell_type": "markdown",
   "metadata": {},
   "source": [
    "Here are five questions based on the scope of consolidation for Maroc Telecom:\n",
    "\n",
    "1. **What is the percentage of voting rights Maroc Telecom holds in Mauritel, and how does this translate into their equity interest in the Mauritanian operator?**\n",
    "   - Maroc Telecom holds 52% of the voting rights in Mauritel, which translates to a 41.2% equity interest in the Mauritanian operator due to their ownership of 80% in Compagnie Mauritanienne de Communications (CMC), the owner of Mauritel.\n",
    "\n",
    "2. **When did Maroc Telecom fully consolidate Gabon Telecom, and what significant acquisition did Gabon Telecom make in 2016?**\n",
    "   - Maroc Telecom fully consolidated Gabon Telecom on March 1, 2007. In 2016, Gabon Telecom acquired 100% of Atlantique Telecom Gabon’s capital, which was subsequently absorbed by Gabon Telecom on June 29, 2016.\n",
    "\n",
    "3. **Which entities did Maroc Telecom acquire on January 26, 2015, and what was the consolidation status of these entities?**\n",
    "   - On January 26, 2015, Maroc Telecom acquired Moov Africa Côte d'Ivoire (85% stake), Moov Africa Benin (100% stake), Moov Africa Togo (95% stake), Moov Africa Niger (100% stake), and Moov Africa Centrafrique (100% stake). All these entities have been fully consolidated in the financial statements of Maroc Telecom since January 31, 2015.\n",
    "\n",
    "4. **When did Maroc Telecom acquire a 100% stake in Moov Africa Chad, and what is the consolidation status of this acquisition?**\n",
    "   - Maroc Telecom acquired a 100% stake in Moov Africa Chad on June 26, 2019, and this entity has been fully consolidated in Maroc Telecom's financial statements since July 1, 2019.\n",
    "\n",
    "5. **What type of investments are classified as \"Other nonconsolidated investments\" by Maroc Telecom, and can you name a few examples?**\n",
    "   - \"Other nonconsolidated investments\" are those investments whose significance in relation to the consolidated financial statements is not material, or where Maroc Telecom does not exercise exclusive control, joint control, or significant influence. Examples include MT Cash, MT Fly, and minority interests in RASCOM, Autoroutes du Maroc, Arabsat, and other investments."
   ]
  },
  {
   "cell_type": "markdown",
   "metadata": {},
   "source": [
    "#### Query Data from the persisted index"
   ]
  },
  {
   "cell_type": "code",
   "execution_count": 5,
   "metadata": {},
   "outputs": [
    {
     "name": "stdout",
     "output_type": "stream",
     "text": [
      "Maroc Telecom holds 52% of the voting rights in Mauritel, which translates to a 41.2% equity interest in the Mauritanian operator.\n"
     ]
    }
   ],
   "source": [
    "query_engine = index.as_query_engine()\n",
    "question=\"What is the percentage of voting rights Maroc Telecom holds in Mauritel, and how does this translate into their equity interest in the Mauritanian operator?\"\n",
    "response = query_engine.query(question)\n",
    "print(response)"
   ]
  },
  {
   "cell_type": "code",
   "execution_count": 6,
   "metadata": {},
   "outputs": [
    {
     "data": {
      "text/plain": [
       "{'bd625857-3742-49bb-af0e-6c16ebbccc5d': {'page_label': '24',\n",
       "  'file_name': 'Maroc_Telecom_2024_half_year_Financial_Report.pdf',\n",
       "  'file_path': '/home/cuphead/Projects/llama-index/data/Maroc_Telecom_2024_half_year_Financial_Report.pdf',\n",
       "  'file_type': 'application/pdf',\n",
       "  'file_size': 3670685,\n",
       "  'creation_date': '2024-08-02',\n",
       "  'last_modified_date': '2024-08-02'},\n",
       " 'ed6a9c95-470d-4604-a28b-0cc913679a28': {'page_label': '20',\n",
       "  'file_name': 'Maroc_Telecom_2024_half_year_Financial_Report.pdf',\n",
       "  'file_path': '/home/cuphead/Projects/llama-index/data/Maroc_Telecom_2024_half_year_Financial_Report.pdf',\n",
       "  'file_type': 'application/pdf',\n",
       "  'file_size': 3670685,\n",
       "  'creation_date': '2024-08-02',\n",
       "  'last_modified_date': '2024-08-02'}}"
      ]
     },
     "execution_count": 6,
     "metadata": {},
     "output_type": "execute_result"
    }
   ],
   "source": [
    "response.metadata"
   ]
  }
 ],
 "metadata": {
  "kernelspec": {
   "display_name": "venv",
   "language": "python",
   "name": "python3"
  },
  "language_info": {
   "codemirror_mode": {
    "name": "ipython",
    "version": 3
   },
   "file_extension": ".py",
   "mimetype": "text/x-python",
   "name": "python",
   "nbconvert_exporter": "python",
   "pygments_lexer": "ipython3",
   "version": "3.10.12"
  }
 },
 "nbformat": 4,
 "nbformat_minor": 2
}
