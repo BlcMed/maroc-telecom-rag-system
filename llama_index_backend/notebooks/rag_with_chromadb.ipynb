{
 "cells": [
  {
   "cell_type": "markdown",
   "metadata": {},
   "source": [
    "---\n",
    "**llama-index with chroma-db** \n",
    "\n",
    "---"
   ]
  },
  {
   "cell_type": "markdown",
   "metadata": {},
   "source": [
    "### import dependencies and env variables"
   ]
  },
  {
   "cell_type": "code",
   "execution_count": 1,
   "metadata": {},
   "outputs": [],
   "source": [
    "from llama_index.core import VectorStoreIndex, SimpleDirectoryReader, StorageContext, Settings\n",
    "from llama_index.core.node_parser import SentenceSplitter\n",
    "from llama_index.vector_stores.chroma import ChromaVectorStore\n",
    "import chromadb\n",
    "\n",
    "# to load open ai key\n",
    "from dotenv import load_dotenv\n",
    "import os"
   ]
  },
  {
   "cell_type": "markdown",
   "metadata": {},
   "source": [
    "### env variables and constants"
   ]
  },
  {
   "cell_type": "code",
   "execution_count": 2,
   "metadata": {},
   "outputs": [
    {
     "name": "stderr",
     "output_type": "stream",
     "text": [
      "Python-dotenv could not parse statement starting at line 2\n"
     ]
    }
   ],
   "source": [
    "load_dotenv()\n",
    "os.environ['OPENAI_API_KEY']=os.getenv(\"OPENAI_API_KEY\")\n",
    "\n",
    "DATA_PATH = '../data'\n",
    "VECTOR_STORE_PATH = '../chroma_db'\n",
    "\n",
    "CHUNK_SIZE=512\n",
    "CHUNK_OVERLAP=10"
   ]
  },
  {
   "cell_type": "markdown",
   "metadata": {},
   "source": [
    "### Logging"
   ]
  },
  {
   "cell_type": "code",
   "execution_count": 3,
   "metadata": {},
   "outputs": [],
   "source": [
    "#import logging\n",
    "#import sys\n",
    "#logging.basicConfig(stream=sys.stdout, level=logging.DEBUG)\n",
    "#logging.getLogger().addHandler(logging.StreamHandler(stream=sys.stdout))"
   ]
  },
  {
   "cell_type": "markdown",
   "metadata": {},
   "source": [
    "### RAG pipeline"
   ]
  },
  {
   "cell_type": "markdown",
   "metadata": {},
   "source": [
    "#### Loading"
   ]
  },
  {
   "cell_type": "code",
   "execution_count": 4,
   "metadata": {},
   "outputs": [
    {
     "name": "stderr",
     "output_type": "stream",
     "text": [
      "Ignoring wrong pointing object 9 0 (offset 0)\n",
      "Ignoring wrong pointing object 20 0 (offset 0)\n",
      "Ignoring wrong pointing object 22 0 (offset 0)\n",
      "Ignoring wrong pointing object 24 0 (offset 0)\n",
      "Ignoring wrong pointing object 29 0 (offset 0)\n",
      "Ignoring wrong pointing object 31 0 (offset 0)\n",
      "Ignoring wrong pointing object 36 0 (offset 0)\n",
      "Ignoring wrong pointing object 42 0 (offset 0)\n",
      "Ignoring wrong pointing object 44 0 (offset 0)\n",
      "Ignoring wrong pointing object 47 0 (offset 0)\n"
     ]
    }
   ],
   "source": [
    "documents = SimpleDirectoryReader(DATA_PATH).load_data()"
   ]
  },
  {
   "cell_type": "code",
   "execution_count": 5,
   "metadata": {},
   "outputs": [
    {
     "data": {
      "text/plain": [
       "827"
      ]
     },
     "execution_count": 5,
     "metadata": {},
     "output_type": "execute_result"
    }
   ],
   "source": [
    "len(documents)"
   ]
  },
  {
   "cell_type": "markdown",
   "metadata": {},
   "source": [
    "##### create client and a new collection for chroma db"
   ]
  },
  {
   "cell_type": "code",
   "execution_count": 6,
   "metadata": {},
   "outputs": [],
   "source": [
    "db = chromadb.PersistentClient(path=VECTOR_STORE_PATH)\n",
    "chroma_collection = db.get_or_create_collection(\"quickstart\")"
   ]
  },
  {
   "cell_type": "markdown",
   "metadata": {},
   "source": [
    "#### set up ChromaVectorStore"
   ]
  },
  {
   "cell_type": "code",
   "execution_count": 7,
   "metadata": {},
   "outputs": [],
   "source": [
    "vector_store = ChromaVectorStore(chroma_collection=chroma_collection)\n",
    "storage_context = StorageContext.from_defaults(vector_store=vector_store)"
   ]
  },
  {
   "cell_type": "markdown",
   "metadata": {},
   "source": [
    "#### indexing and saving to disk"
   ]
  },
  {
   "cell_type": "code",
   "execution_count": 8,
   "metadata": {},
   "outputs": [
    {
     "name": "stderr",
     "output_type": "stream",
     "text": [
      "/home/cuphead/Projects/llama-index/venv/lib/python3.10/site-packages/tqdm/auto.py:21: TqdmWarning: IProgress not found. Please update jupyter and ipywidgets. See https://ipywidgets.readthedocs.io/en/stable/user_install.html\n",
      "  from .autonotebook import tqdm as notebook_tqdm\n",
      "Parsing nodes: 100%|██████████| 827/827 [00:09<00:00, 89.74it/s] \n",
      "Generating embeddings: 100%|██████████| 2025/2025 [00:53<00:00, 37.51it/s]\n"
     ]
    }
   ],
   "source": [
    "text_splitter = SentenceSplitter(chunk_size=CHUNK_SIZE, chunk_overlap=CHUNK_OVERLAP)\n",
    "\n",
    "Settings.text_splitter = text_splitter\n",
    "\n",
    "# after we pass storage_context, chroma automatically saves data to disk\n",
    "index = VectorStoreIndex.from_documents(\n",
    "    documents,\n",
    "    transformations=[text_splitter],\n",
    "    storage_context=storage_context,\n",
    "    show_progress=True\n",
    ") "
   ]
  },
  {
   "cell_type": "markdown",
   "metadata": {},
   "source": [
    "#### load from disk"
   ]
  },
  {
   "cell_type": "code",
   "execution_count": 9,
   "metadata": {},
   "outputs": [],
   "source": [
    "db2 = chromadb.PersistentClient(path=VECTOR_STORE_PATH)\n",
    "chroma_collection = db2.get_or_create_collection(\"quickstart\")\n",
    "vector_store = ChromaVectorStore(chroma_collection=chroma_collection)\n",
    "loaded_index = VectorStoreIndex.from_vector_store(\n",
    "    vector_store,\n",
    ")"
   ]
  },
  {
   "cell_type": "markdown",
   "metadata": {},
   "source": [
    "**Quels sont les critères pour la reconnaissance d'un élément de propriété, d'équipement et de matériel (PPE) comme actif selon les politiques comptables IFRS décrites ?**\n",
    "\n",
    "**Réponse:**\n",
    "Un élément de propriété, d'équipement et de matériel (PPE) est reconnu comme actif si, et seulement si, il est probable que les avantages économiques futurs associés à l'élément afflueront vers le Groupe et que son coût peut être mesuré de manière fiable.\n",
    "\n",
    "**Comment le groupe comptabilise-t-il les dépenses engagées après qu'un actif PPE est prêt à l'emploi, comme les réparations et l'entretien ?**\n",
    "\n",
    "**Réponse:**\n",
    "Les dépenses engagées après qu'un actif PPE est prêt à l'emploi, telles que les réparations et l'entretien, sont comptabilisées en charges dans le compte de résultat pour la période au cours de laquelle ces coûts sont engagés. Toutefois, si les dépenses peuvent être mesurées de manière fiable et qu'il est probable que des avantages économiques futurs en découlent pour le Groupe, elles sont incluses dans la valeur comptable de l'actif ou reconnues comme un actif distinct, selon le cas."
   ]
  },
  {
   "cell_type": "markdown",
   "metadata": {},
   "source": [
    "#### Query Data from the persisted index"
   ]
  },
  {
   "cell_type": "code",
   "execution_count": 10,
   "metadata": {},
   "outputs": [
    {
     "name": "stdout",
     "output_type": "stream",
     "text": [
      "Les critères pour la reconnaissance d'un élément de propriété, d'équipement et de matériel (PPE) comme actif selon les politiques comptables IFRS décrites incluent le fait que l'élément doit générer des avantages économiques futurs probables et que son coût peut être mesuré de manière fiable.\n"
     ]
    }
   ],
   "source": [
    "question=\"Quels sont les critères pour la reconnaissance d'un élément de propriété, d'équipement et de matériel (PPE) comme actif selon les politiques comptables IFRS décrites ?\"\n",
    "query_engine = loaded_index.as_query_engine()\n",
    "response = query_engine.query(question)\n",
    "print(response)"
   ]
  },
  {
   "cell_type": "code",
   "execution_count": 11,
   "metadata": {},
   "outputs": [
    {
     "data": {
      "text/plain": [
       "{'b77805d9-c6f6-45d0-acdd-e2fb409f6090': {'page_label': '19',\n",
       "  'file_name': 'FY 2023 Communiqué de Presse.pdf',\n",
       "  'file_path': '/home/cuphead/Projects/llama-index/notebooks/../data/FY 2023 Communiqué de Presse.pdf',\n",
       "  'file_type': 'application/pdf',\n",
       "  'file_size': 479112,\n",
       "  'creation_date': '2024-08-07',\n",
       "  'last_modified_date': '2024-02-15'},\n",
       " '1614a10d-f270-4a95-887f-844fe93e92c6': {'page_label': '19',\n",
       "  'file_name': 'Orange-FY 2023 Communiqué de Presse.pdf',\n",
       "  'file_path': '/home/cuphead/Projects/llama-index/notebooks/../data/Orange-FY 2023 Communiqué de Presse.pdf',\n",
       "  'file_type': 'application/pdf',\n",
       "  'file_size': 479112,\n",
       "  'creation_date': '2024-08-07',\n",
       "  'last_modified_date': '2024-02-15'}}"
      ]
     },
     "execution_count": 11,
     "metadata": {},
     "output_type": "execute_result"
    }
   ],
   "source": [
    "response.metadata"
   ]
  },
  {
   "cell_type": "markdown",
   "metadata": {},
   "source": [
    "asking in french"
   ]
  },
  {
   "cell_type": "code",
   "execution_count": 12,
   "metadata": {},
   "outputs": [
    {
     "name": "stdout",
     "output_type": "stream",
     "text": [
      "Maroc Telecom a complètement intégré Gabon Telecom en 2007. En 2016, Gabon Telecom a réalisé une acquisition significative en intégrant l'opérateur de téléphonie mobile Moov Gabon.\n"
     ]
    }
   ],
   "source": [
    "question2=\"Quand Maroc Telecom a-t-il complètement intégré Gabon Telecom, et quelle acquisition significative Gabon Telecom a-t-il réalisée en 2016 ?\"\n",
    "query_engine = loaded_index.as_query_engine()\n",
    "response = query_engine.query(question2)\n",
    "print(response)"
   ]
  },
  {
   "cell_type": "markdown",
   "metadata": {},
   "source": [
    "#### adding new documents"
   ]
  },
  {
   "cell_type": "code",
   "execution_count": 13,
   "metadata": {},
   "outputs": [],
   "source": [
    "#new_documents=SimpleDirectoryReader(\"../delta_data\").load_data()"
   ]
  },
  {
   "cell_type": "code",
   "execution_count": 14,
   "metadata": {},
   "outputs": [],
   "source": [
    "#for doc in new_documents:\n",
    "    #index.insert(doc)"
   ]
  },
  {
   "cell_type": "markdown",
   "metadata": {},
   "source": [
    "asking about new documents"
   ]
  },
  {
   "cell_type": "markdown",
   "metadata": {},
   "source": [
    "1. **Quelle a été l'évolution des revenus du Groupe Maroc Telecom en 2019 par rapport à 2018 ?**\n",
    "   \n",
    "   En 2019, le Groupe Maroc Telecom a généré des revenus totaux de 36 517 millions de MAD, ce qui représente une augmentation de 1,3% par rapport à 2018 (+0,9% à périmètre comparable). Cette performance est due à la croissance continue des activités au Maroc et à la résilience des activités internationales malgré la concurrence accrue et la pression réglementaire.\n",
    "\n",
    "2. **Quel a été l'impact de la gestion des coûts sur l'EBITDA du Groupe Maroc Telecom en 2019 ?**\n",
    "   \n",
    "   Grâce à une gestion robuste des coûts, l'EBITDA du Groupe Maroc Telecom a atteint 18 922 millions de MAD en 2019, en hausse de 3,4% à périmètre comparable. La marge EBITDA a atteint 51,8%, en augmentation de 1,2 point à périmètre comparable.\n",
    "\n",
    "3. **Quel est le montant des investissements réalisés par le Groupe Maroc Telecom en 2019 et comment se compare-t-il aux revenus ?**\n",
    "   \n",
    "   En 2019, les investissements en capital ont atteint 6 788 millions de MAD, ce qui représente une augmentation de 2,2% par rapport à l'année précédente. Ces investissements représentent 14,7% des revenus (hors fréquences et licences), ce qui est en ligne avec l'objectif déclaré pour l'année."
   ]
  },
  {
   "cell_type": "code",
   "execution_count": 15,
   "metadata": {},
   "outputs": [
    {
     "name": "stdout",
     "output_type": "stream",
     "text": [
      "Les revenus du Groupe Maroc Telecom ont augmenté de 6,6% en 2019 par rapport à 2018.\n"
     ]
    }
   ],
   "source": [
    "question3 = \"Quelle a été l'évolution des revenus du Groupe Maroc Telecom en 2019 par rapport à 2018 ?\"\n",
    "query_engine = index.as_query_engine()\n",
    "response = query_engine.query(question3)\n",
    "print(response)"
   ]
  },
  {
   "cell_type": "code",
   "execution_count": 16,
   "metadata": {},
   "outputs": [
    {
     "data": {
      "text/plain": [
       "{'b5e37790-050d-4280-9b2a-49aeeb1b4fea': {'page_label': '3',\n",
       "  'file_name': 'FY 2023 Communiqué de Presse.pdf',\n",
       "  'file_path': '/home/cuphead/Projects/llama-index/notebooks/../data/FY 2023 Communiqué de Presse.pdf',\n",
       "  'file_type': 'application/pdf',\n",
       "  'file_size': 479112,\n",
       "  'creation_date': '2024-08-07',\n",
       "  'last_modified_date': '2024-02-15'},\n",
       " '9d86fc74-caea-49c2-aba3-a4dc6b492140': {'page_label': '10',\n",
       "  'file_name': 'FY 2023 Communiqué de Presse.pdf',\n",
       "  'file_path': '/home/cuphead/Projects/llama-index/notebooks/../data/FY 2023 Communiqué de Presse.pdf',\n",
       "  'file_type': 'application/pdf',\n",
       "  'file_size': 479112,\n",
       "  'creation_date': '2024-08-07',\n",
       "  'last_modified_date': '2024-02-15'}}"
      ]
     },
     "execution_count": 16,
     "metadata": {},
     "output_type": "execute_result"
    }
   ],
   "source": [
    "response.metadata"
   ]
  }
 ],
 "metadata": {
  "kernelspec": {
   "display_name": "venv",
   "language": "python",
   "name": "python3"
  },
  "language_info": {
   "codemirror_mode": {
    "name": "ipython",
    "version": 3
   },
   "file_extension": ".py",
   "mimetype": "text/x-python",
   "name": "python",
   "nbconvert_exporter": "python",
   "pygments_lexer": "ipython3",
   "version": "3.10.12"
  }
 },
 "nbformat": 4,
 "nbformat_minor": 2
}
